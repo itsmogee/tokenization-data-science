{
 "cells": [
  {
   "cell_type": "code",
   "execution_count": 61,
   "metadata": {},
   "outputs": [],
   "source": [
    "from collections import Counter, defaultdict"
   ]
  },
  {
   "cell_type": "code",
   "execution_count": 62,
   "metadata": {},
   "outputs": [],
   "source": [
    "# craete the corpus\n",
    "with open(\"wiki_corpus.txt\", \"r\", encoding=\"utf-8\") as f:\n",
    "    corpus = f.readlines() # list of strings\n",
    "\n",
    "\n",
    "# define the vocab size:\n",
    "# shoudl no be confused with the number of corpus new line.\n",
    "vocab_size = 1000"
   ]
  },
  {
   "cell_type": "code",
   "execution_count": 63,
   "metadata": {},
   "outputs": [],
   "source": [
    "word_freq = Counter()"
   ]
  },
  {
   "cell_type": "code",
   "execution_count": 64,
   "metadata": {},
   "outputs": [],
   "source": [
    "# get stats: frequency of the words\n",
    "\n",
    "word_freq = Counter()\n",
    "corpus_words = \" \".join(corpus).split()\n",
    "\n",
    "for word in corpus_words:\n",
    "    word_freq[word] += 1"
   ]
  },
  {
   "cell_type": "code",
   "execution_count": 65,
   "metadata": {},
   "outputs": [],
   "source": [
    "# get the base vocab\n",
    "# special characters\n",
    "alphabet = []\n",
    "for word in word_freq:\n",
    "    for letter in word:\n",
    "        if letter not in alphabet:\n",
    "            alphabet.append(letter)\n",
    "\n",
    "alphabet.sort()\n",
    "\n",
    "# add special token.\n",
    "vocab = [\"</w>\"] + alphabet.copy()"
   ]
  },
  {
   "cell_type": "code",
   "execution_count": 66,
   "metadata": {},
   "outputs": [],
   "source": [
    "# split each individual word into characters\n",
    "splits = {word: [c for c in word] for word in word_freq}"
   ]
  },
  {
   "cell_type": "code",
   "execution_count": null,
   "metadata": {},
   "outputs": [
    {
     "data": {
      "text/plain": [
       "['This', 'is', 'not', 'a', 'to', 'k', 'en', '.']"
      ]
     },
     "execution_count": 67,
     "metadata": {},
     "output_type": "execute_result"
    }
   ],
   "source": [
    "# merge the most frequent pair iteratively unitl the vocab size is reached\n",
    "merges = {}\n",
    "\n",
    "def generate_freq_pairs():\n",
    "    freq_pairs = defaultdict(int)\n",
    "    for word, freq in word_freq.items():\n",
    "        charcters = splits[word]\n",
    "        if len(charcters) == 1:\n",
    "            continue\n",
    "        for i in range(len(charcters) - 1):\n",
    "            pair = (charcters[i], charcters[i+1])\n",
    "            freq_pairs[pair] += freq\n",
    "    return freq_pairs\n",
    "\n",
    "def merge_pair(first_char, second_char):\n",
    "\n",
    "    for word in word_freq:\n",
    "        split = splits[word]\n",
    "        if len(split) == 1:\n",
    "            continue\n",
    "        i = 0\n",
    "        while i < len(split) -1:\n",
    "            if split[i] == first_char and split[i+1] == second_char:\n",
    "                split = split[:i] + [first_char + second_char] + split[i+2:]\n",
    "            else:\n",
    "                i += 1\n",
    "        splits[word] = split\n",
    "\n",
    "    return splits\n",
    "\n",
    "\n",
    "while len(vocab) < vocab_size:\n",
    "    \n",
    "    freq_pairs = generate_freq_pairs()\n",
    "\n",
    "    best_pair = (\"\", \"\")\n",
    "    max_freq = 0\n",
    "    for pair, freq in freq_pairs.items():\n",
    "        if freq > max_freq:\n",
    "            best_pair = pair\n",
    "            max_freq = freq\n",
    "\n",
    "    # best_pair, max_freq = max(freq_pairs.items(), key=lambda x: x[1], default=((\"\", \"\"), 0))\n",
    "    \n",
    "    # merge the freq pair\n",
    "    splits = merge_pair(*best_pair)\n",
    "    merges[best_pair] =  best_pair[0] + best_pair[1]\n",
    "    vocab.append(best_pair[0] + best_pair[1])\n",
    "\n",
    "\n",
    "def tokenize(text):\n",
    "    words = [word for word in text.split()]\n",
    "    splits = [[char for char in word] for word in words]\n",
    "\n",
    "    for pair, merge in merges.items():\n",
    "        for idx, split in enumerate(splits):\n",
    "            i = 0\n",
    "            while i < len(split) - 1:\n",
    "                if split[i] == pair[0] and split[i + 1] == pair[1]:\n",
    "                    split = split[:i] + [merge] + split[i + 2 :]\n",
    "                else:\n",
    "                    i += 1\n",
    "            splits[idx] = split\n",
    "    \n",
    "    return sum(splits, [])\n",
    "\n",
    "    \n",
    "\n",
    "tokenize(\"This is not a token.\")\n",
    "# best_pair = \"ct\"\n",
    "# name = list(\"hector\")\n",
    "# name[:2] + [best_pair] + name[3+1:]\n",
    "\n",
    "# did we token a space?"
   ]
  },
  {
   "cell_type": "code",
   "execution_count": null,
   "metadata": {},
   "outputs": [],
   "source": []
  }
 ],
 "metadata": {
  "kernelspec": {
   "display_name": ".venv",
   "language": "python",
   "name": "python3"
  },
  "language_info": {
   "codemirror_mode": {
    "name": "ipython",
    "version": 3
   },
   "file_extension": ".py",
   "mimetype": "text/x-python",
   "name": "python",
   "nbconvert_exporter": "python",
   "pygments_lexer": "ipython3",
   "version": "3.11.9"
  }
 },
 "nbformat": 4,
 "nbformat_minor": 2
}
