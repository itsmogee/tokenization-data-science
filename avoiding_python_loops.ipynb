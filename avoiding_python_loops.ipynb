{
 "cells": [
  {
   "cell_type": "code",
   "execution_count": 15,
   "metadata": {},
   "outputs": [
    {
     "data": {
      "text/html": [
       "<div>\n",
       "<style scoped>\n",
       "    .dataframe tbody tr th:only-of-type {\n",
       "        vertical-align: middle;\n",
       "    }\n",
       "\n",
       "    .dataframe tbody tr th {\n",
       "        vertical-align: top;\n",
       "    }\n",
       "\n",
       "    .dataframe thead th {\n",
       "        text-align: right;\n",
       "    }\n",
       "</style>\n",
       "<table border=\"1\" class=\"dataframe\">\n",
       "  <thead>\n",
       "    <tr style=\"text-align: right;\">\n",
       "      <th></th>\n",
       "      <th>col1</th>\n",
       "      <th>col2</th>\n",
       "    </tr>\n",
       "  </thead>\n",
       "  <tbody>\n",
       "    <tr>\n",
       "      <th>0</th>\n",
       "      <td>0.112278</td>\n",
       "      <td>0.046638</td>\n",
       "    </tr>\n",
       "    <tr>\n",
       "      <th>1</th>\n",
       "      <td>0.506498</td>\n",
       "      <td>0.314373</td>\n",
       "    </tr>\n",
       "    <tr>\n",
       "      <th>2</th>\n",
       "      <td>0.004619</td>\n",
       "      <td>0.288043</td>\n",
       "    </tr>\n",
       "    <tr>\n",
       "      <th>3</th>\n",
       "      <td>0.667698</td>\n",
       "      <td>0.064282</td>\n",
       "    </tr>\n",
       "    <tr>\n",
       "      <th>4</th>\n",
       "      <td>0.676079</td>\n",
       "      <td>0.988156</td>\n",
       "    </tr>\n",
       "  </tbody>\n",
       "</table>\n",
       "</div>"
      ],
      "text/plain": [
       "       col1      col2\n",
       "0  0.112278  0.046638\n",
       "1  0.506498  0.314373\n",
       "2  0.004619  0.288043\n",
       "3  0.667698  0.064282\n",
       "4  0.676079  0.988156"
      ]
     },
     "execution_count": 15,
     "metadata": {},
     "output_type": "execute_result"
    }
   ],
   "source": [
    "import numpy as np\n",
    "import pandas as pd\n",
    "import time\n",
    "\n",
    "# Create DataFrame\n",
    "\n",
    "col1 = np.random.rand(100000)\n",
    "col2 = np.random.rand(100000)\n",
    "\n",
    "data = {'col1': col1, 'col2':col2}\n",
    "\n",
    "df = pd.DataFrame(data)\n",
    "\n",
    "df.head(5)"
   ]
  },
  {
   "cell_type": "code",
   "execution_count": 7,
   "metadata": {},
   "outputs": [
    {
     "name": "stdout",
     "output_type": "stream",
     "text": [
      "--- 33.63722801208496 seconds ---\n"
     ]
    }
   ],
   "source": [
    "# Pandas Index Iteraction\n",
    "start_time = time.time()\n",
    "for i in df.index:\n",
    "  df.loc[i, 'col1'] = df.loc[i, 'col1'] ** 2\n",
    "  df.loc[i, 'col2'] = df.loc[i, 'col2'] * df.loc[i, 'col2']\n",
    "print(\"--- %s seconds ---\" % (time.time() - start_time))"
   ]
  },
  {
   "cell_type": "code",
   "execution_count": 8,
   "metadata": {},
   "outputs": [
    {
     "name": "stdout",
     "output_type": "stream",
     "text": [
      "--- 25.37420964241028 seconds ---\n"
     ]
    }
   ],
   "source": [
    "# Iterrows() with df look up\n",
    "df_iter = df.iterrows()\n",
    "start_time = time.time()\n",
    "for idx, row in df_iter:\n",
    "  df.loc[idx, 'col1'] = df.loc[idx, 'col1'] ** 2\n",
    "  df.loc[idx, 'col2'] = df.loc[idx, 'col1'] * df.loc[idx, 'col1']\n",
    "print(\"--- %s seconds ---\" % (time.time() - start_time))"
   ]
  },
  {
   "cell_type": "code",
   "execution_count": 9,
   "metadata": {},
   "outputs": [
    {
     "name": "stdout",
     "output_type": "stream",
     "text": [
      "--- 22.726011037826538 seconds ---\n"
     ]
    }
   ],
   "source": [
    "# Iterrows() look up from a row\n",
    "df_iter = df.iterrows()\n",
    "start_time = time.time()\n",
    "for idx, row in df_iter:\n",
    "  df.loc[idx, 'col1'] = row['col1'] ** 2\n",
    "  df.loc[idx, 'col2'] = row['col1'] * row['col2']\n",
    "print(\"--- %s seconds ---\" % (time.time() - start_time))"
   ]
  },
  {
   "cell_type": "code",
   "execution_count": 10,
   "metadata": {},
   "outputs": [
    {
     "name": "stdout",
     "output_type": "stream",
     "text": [
      "--- 19.106531381607056 seconds ---\n"
     ]
    }
   ],
   "source": [
    "# Iterrows()\n",
    "df_itertuples = df.itertuples()\n",
    "start_time = time.time()\n",
    "for row in df_itertuples:\n",
    "  df.loc[row.Index, 'col1'] = row.col1 ** 2\n",
    "  df.loc[row.Index, 'col2'] = row.col1 * row.col2\n",
    "print(\"--- %s seconds ---\" % (time.time() - start_time))"
   ]
  },
  {
   "cell_type": "code",
   "execution_count": 11,
   "metadata": {},
   "outputs": [
    {
     "name": "stdout",
     "output_type": "stream",
     "text": [
      "--- 15.235454320907593 seconds ---\n"
     ]
    }
   ],
   "source": [
    "# Iterrows()\n",
    "df_itertuples = df.itertuples()\n",
    "start_time = time.time()\n",
    "for row in df_itertuples:\n",
    "  df.loc[row.Index, 'col1'] = row.col1 ** 2\n",
    "  df.loc[row.Index, 'col2'] = row.col1 * row.col2\n",
    "print(\"--- %s seconds ---\" % (time.time() - start_time))"
   ]
  },
  {
   "cell_type": "code",
   "execution_count": 12,
   "metadata": {},
   "outputs": [
    {
     "name": "stdout",
     "output_type": "stream",
     "text": [
      "--- 9.463849306106567 seconds ---\n"
     ]
    }
   ],
   "source": [
    "# Dictionary Iteraction\n",
    "df_dict =  df.to_dict('records')\n",
    "start_time = time.time()\n",
    "for i, row in enumerate(df_dict):\n",
    "  df.loc[i, 'col1'] = row['col1'] ** 2\n",
    "  df.loc[i, 'col2'] = row['col2'] * row['col1']\n",
    "print(\"--- %s seconds ---\" % (time.time() - start_time))"
   ]
  },
  {
   "cell_type": "code",
   "execution_count": null,
   "metadata": {},
   "outputs": [
    {
     "name": "stdout",
     "output_type": "stream",
     "text": [
      "--- 0.0055389404296875 seconds ---\n"
     ]
    }
   ],
   "source": [
    "# Just Stay on the DataFrame\n",
    "start_time = time.time()\n",
    "df['col1'] = (df['col1'] ** 2)\n",
    "df['col2'] = (df['col2'] * df['col2'])\n",
    "print(\"--- %s seconds ---\" % (time.time() - start_time))\n",
    "\n",
    "# 5/1000 ~ 5.53milliseconds"
   ]
  },
  {
   "cell_type": "code",
   "execution_count": null,
   "metadata": {},
   "outputs": [],
   "source": []
  },
  {
   "cell_type": "code",
   "execution_count": 14,
   "metadata": {},
   "outputs": [
    {
     "name": "stdout",
     "output_type": "stream",
     "text": [
      "Vector Operation are 4329.843005833238 faster than loop operations\n"
     ]
    }
   ],
   "source": [
    "# Vector operations are faster than loops\n",
    "# assignemtn on DF can slow down the operations\n",
    "print('Vector Operation are', 45.12765097618103/0.010422468185424805, 'faster than loop operations')"
   ]
  }
 ],
 "metadata": {
  "kernelspec": {
   "display_name": ".venv",
   "language": "python",
   "name": "python3"
  },
  "language_info": {
   "codemirror_mode": {
    "name": "ipython",
    "version": 3
   },
   "file_extension": ".py",
   "mimetype": "text/x-python",
   "name": "python",
   "nbconvert_exporter": "python",
   "pygments_lexer": "ipython3",
   "version": "3.11.9"
  }
 },
 "nbformat": 4,
 "nbformat_minor": 2
}
